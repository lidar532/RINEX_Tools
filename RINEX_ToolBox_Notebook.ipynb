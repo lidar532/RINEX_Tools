{
  "nbformat": 4,
  "nbformat_minor": 0,
  "metadata": {
    "colab": {
      "name": "RINEX-ToolBox-Notebook.ipynb",
      "private_outputs": true,
      "provenance": [],
      "collapsed_sections": [
        "3VPwGINANzTN",
        "WITzA67LR_jL",
        "3YxKAP-NSEHb",
        "Cx9i_uwETZjt",
        "MM-mhPFpGiVR"
      ],
      "authorship_tag": "ABX9TyPvh0B/gPiQjZeirMIJH3sb",
      "include_colab_link": true
    },
    "kernelspec": {
      "name": "python3",
      "display_name": "Python 3"
    },
    "language_info": {
      "name": "python"
    }
  },
  "cells": [
    {
      "cell_type": "markdown",
      "metadata": {
        "id": "view-in-github",
        "colab_type": "text"
      },
      "source": [
        "<a href=\"https://colab.research.google.com/github/lidar532/RINEX_Tools/blob/main/RINEX_ToolBox_Notebook.ipynb\" target=\"_parent\"><img src=\"https://colab.research.google.com/assets/colab-badge.svg\" alt=\"Open In Colab\"/></a>"
      ]
    },
    {
      "cell_type": "markdown",
      "metadata": {
        "id": "3VPwGINANzTN"
      },
      "source": [
        "# **RINEX ToolBox Notebook for Google Colab**\n",
        "Version 2021-0911-0117\n",
        "\n",
        "C. W. Wright lidar532(at)gmail.com\n"
      ]
    },
    {
      "cell_type": "markdown",
      "metadata": {
        "id": "WITzA67LR_jL"
      },
      "source": [
        "\n",
        "## Description\n",
        "A collection of tools for working with RINEX data files. This notebook provides a number of \n",
        "python wrappers around the [UNAVCO Teqc GNSS program](https://www.unavco.org/software/data-processing/teqc/teqc.html). Teqc is a powerful commandline program with huge number of 'switches'.  This notebook \n",
        "installs a Linux version of Teqc on the Colab server and then provides cells which call Teqc with \n",
        "the switches preset for various common operations.  The notbook provides the following:\n",
        "* Ability to optionally read your data files from your Google Drive.\n",
        "* Extract Event marks from a RINEX file and convert them to a file with data columns for GPS_Date_Time and\n",
        "  for UTC_Date_Time\n",
        "* Decimate a base station file to 30 second interval file suitable for sending to [NOAA NGS Online       Positioning User Service (OPUS).](https://geodesy.noaa.gov/OPUS/)\n",
        "* Extract and printout the header portion of a RINEX File.\n",
        "* Run a Teqc quality control analysis, and generate a report.\n",
        "* Verify a RINEX file.\n",
        "* Extract start and stop time from a Teqc report\n",
        "\n",
        "\n"
      ]
    },
    {
      "cell_type": "markdown",
      "metadata": {
        "id": "3YxKAP-NSEHb"
      },
      "source": [
        "# Get Started."
      ]
    },
    {
      "cell_type": "code",
      "metadata": {
        "id": "a1aBSgJbJxBK"
      },
      "source": [
        "#@title Step 1. Teqc: Get and install teqc from UNAVCO. { form-width: \"30%\", display-mode: \"form\" }\n",
        "import os\n",
        "import datetime\n",
        "\n",
        "if not os.path.isfile('/usr/local/bin/teqc'):\n",
        "  print('Download and install Teqc from Unavco.')\n",
        "  fpath = 'https://www.unavco.org/software/data-processing/teqc/development/teqc_Lx86_64d.zip'\n",
        "  fn = os.path.basename(fpath)\n",
        "  !wget {fpath}\n",
        "  !unzip {fn}\n",
        "  !mv teqc /usr/local/bin\n",
        "  !rm -rf {fn}\n",
        "  print('Teqc installed in /usr/local/bin.')\n",
        "else:\n",
        "  print('Teqc already installed.')\n",
        "\n",
        "print(f'{datetime.datetime.utcnow()}: Operation Completed.')\n",
        "\n",
        "#=================================================================================\n",
        "def get_rinex_version(fn):\n",
        "  '''\n",
        "  Extract and return the version number for a RINEX file as a float.\n",
        "  '''\n",
        "  with open(fn) as fp:\n",
        "    line = fp.readline()\n",
        "  rinex_ver = float(line.split()[0])\n",
        "  return rinex_ver\n",
        "\n",
        "#=================================================================================\n",
        "def get_leap_seconds(fn):\n",
        "  '''\n",
        "  Extract and return the GPS Leap Seconds from a RINEX file as a int.\n",
        "  '''\n",
        "  line_no = 0\n",
        "  with open(fn) as fp:\n",
        "    while True:\n",
        "      line = fp.readline()\n",
        "      line_no = line_no + 1\n",
        "      if 'LEAP SECONDS' in line:\n",
        "        leap_sec = int(line.split()[0])\n",
        "        break\n",
        "      if line_no > 200:\n",
        "        print('NP Leap Second value found.')\n",
        "        leap_sec = 0\n",
        "        break\n",
        "    return leap_sec\n",
        "\n",
        "\n"
      ],
      "execution_count": null,
      "outputs": []
    },
    {
      "cell_type": "markdown",
      "metadata": {
        "id": "MbovVr1lOHpW"
      },
      "source": [
        ""
      ]
    },
    {
      "cell_type": "code",
      "metadata": {
        "id": "3tlOIkwPBM7X"
      },
      "source": [
        "#@title Step 2. (Optional) Mount your Google Drive { form-width: \"30%\", display-mode: \"form\" }\n",
        "#@markdown If your data is on your Google Drive, running this cell will mount the drive.\n",
        "#@markdown Alternatively you can just upload your RINEX file(s) using the file panel on the \n",
        "#@markdown left.\n",
        "if not 'google.colab' in str(get_ipython()):\n",
        "  print('You are not running is Google Colab.')\n",
        "else:\n",
        "  from google.colab import drive\n",
        "  !rm -rf /content/sample_data/\n",
        "  drive.mount('/content/.gdrive')\n",
        "  !ln -sf /content/.gdrive/My\\ Drive/ /content/Gdrive\n",
        "  print('Your Gdrive is mounted')"
      ],
      "execution_count": null,
      "outputs": []
    },
    {
      "cell_type": "code",
      "metadata": {
        "id": "BTrXqJR5igUR"
      },
      "source": [
        "#@title Step 3. Teqc: Select a RINEX File to use. { form-width: \"30%\", display-mode: \"form\" }\n",
        "#@markdown Copy a RINEX file from the gps_data sample sets and paste a RINEX file below.\n",
        "if 'google.colab' in str(get_ipython()):\n",
        "  RINEX_File_Name =  '/content/Gdrive/Missions/2021-0504-Sheerness-Supawna/2021-0504-Sheerness-Supawna_GNSS/bases/USGS_supbase/06411240.21O' #@param {type:\"string\"}\n",
        "if os.path.isfile('/usr/local/bin/teqc'):\n",
        "  if os.path.exists(RINEX_File_Name):\n",
        "    print(f'RINEX_File_Name = {RINEX_File_Name}')\n",
        "  else:\n",
        "    print(f\"Can't find {RINEX_File_Name}\")\n",
        "else:\n",
        "  print('You need to run cell 1. \"Teqc: Get and install teqc\"')\n",
        "\n",
        "print(f'{datetime.datetime.utcnow()}: Operation Completed.')"
      ],
      "execution_count": null,
      "outputs": []
    },
    {
      "cell_type": "markdown",
      "metadata": {
        "id": "Cx9i_uwETZjt"
      },
      "source": [
        "# RINEX Processing and Analysis"
      ]
    },
    {
      "cell_type": "code",
      "metadata": {
        "id": "vScPBwiIe0YT"
      },
      "source": [
        "#@title **Extract event marks from RINEX** { form-width: \"30%\", display-mode: \"form\" }\n",
        "#@markdown Extracts events from a RINEX file, and converts the date/time \n",
        "#@markdown to UTC.  It writes out a file with GPS_Date_Time, UTC_Date_Time\n",
        "#@markdown columns.  The output file name is the same as the input with the ending reset\n",
        "#@markdown to 'events.txt'\n",
        "\n",
        "import datetime\n",
        "import dateutil\n",
        "import numpy as np\n",
        "import os\n",
        "\n",
        "def RINEX_event_time(dt):\n",
        "  '''\n",
        "  Convert an event time extracted by teqc to a numpy datetime64 and return.\n",
        "  '''\n",
        "  ts = dateutil.parser.parse(dt)\n",
        "  npt = np.datetime64(ts)\n",
        "  return npt\n",
        "\n",
        "if not 'get_rinex_version' in globals():\n",
        "  print('You must run cell 1 above first.')\n",
        "else:\n",
        "  rinex_version=get_rinex_version(RINEX_File_Name)\n",
        "  if  rinex_version > 2.11:\n",
        "    print(f'{RINEX_File_Name} is RINEX version: {rinex_version}.   This program needs RINEX 2.11 or lower.')\n",
        "  else:\n",
        "    ofn = f'{os.path.splitext(RINEX_File_Name)[0]}-events.txt'\n",
        "    print(f'Extracting events from RINEX file:{RINEX_File_Name}')\n",
        "    print(f'Writing events to:{ofn}')\n",
        "    leap_seconds = get_leap_seconds(RINEX_File_Name)\n",
        "    if leap_seconds == 0:\n",
        "      print('No leap second record found in your RINEX.  Enter a value:', end='')\n",
        "      leap_seconds = input()\n",
        "\n",
        "    print(f'GPS is {leap_seconds} seconds ahead of UTC.')\n",
        "\n",
        "    ! teqc +events /tmp/events.txt  {RINEX_File_Name}  >/dev/null 2>/dev/null\n",
        "\n",
        "    events = 0\n",
        "    with open('/tmp/events.txt', 'r') as fin:\n",
        "      lines = fin.readlines()\n",
        "      for line in lines:\n",
        "        events = events + 1\n",
        "        if events == 1:\n",
        "          odf = open(ofn,'w')\n",
        "          print('GPS_Date_Time              UTC_Date_Time', file=odf)\n",
        "        gps_dt = RINEX_event_time(line)\n",
        "        utc_dt = gps_dt - np.timedelta64(leap_seconds, 's')\n",
        "        print(gps_dt, utc_dt, file=odf)\n",
        "\n",
        "      print(f'{events} events found.')\n",
        "      if events >= 1:\n",
        "        odf.close()\n",
        "      else:\n",
        "        print('No events file saved.')\n",
        "      print(f'{datetime.datetime.utcnow()}:  Operation Completed.')"
      ],
      "execution_count": null,
      "outputs": []
    },
    {
      "cell_type": "code",
      "metadata": {
        "id": "1aMqGZlnigUS"
      },
      "source": [
        "#@title **`teqc -O.dec 30`** Decimate RINEX to 30 second interval for OPUS { form-width: \"30%\", display-mode: \"form\" }\n",
        "#@markdown Resample the RINEX file to 30 second interval for sending to the NOAA NGS [Online Positioning User Service (OPUS)](https://www.ngs.noaa.gov/OPUS/index.jsp)\n",
        "\n",
        "ofile = '/content/rinex-30seconds.txt'\n",
        "\n",
        "import os\n",
        "if os.path.isfile('/usr/local/bin/teqc'):\n",
        "  RINEX_File_Name\n",
        "  if os.path.exists(RINEX_File_Name):\n",
        "    print(f'Processing: {RINEX_File_Name}')\n",
        "    rinex_version=get_rinex_version(RINEX_File_Name)\n",
        "    if  rinex_version <= 2.11:\n",
        "      ofile = f'{os.path.splitext(RINEX_File_Name)[0]}_OPUS.obs'\n",
        "      #ofile = '/tmp/junk.txt'\n",
        "      print(f'Output file:{ofile}')\n",
        "      try:\n",
        "        !teqc -O.dec 30 {RINEX_File_Name} 2>/dev/null > {ofile}\n",
        "      except:\n",
        "        print(f'{RINEX_File_Name} variable is not set.  Run cell 3. above to set the filename.')\n",
        "      print(f'{RINEX_File_Name} decimated to 30 seconds in {ofile}')\n",
        "      print(f'In the left panel, select \"Files\", \"Refresh\", then Double click {ofile} to view.')\n",
        "    else:\n",
        "      print(f'File is version: {rinex_version}.  Teqc needs version 2.11 or lower')\n",
        "  else:\n",
        "    print(f'{RINEX_File_Name} does not exist.')\n",
        "else:\n",
        "  print('You need to run cell 1. \"Teqc: Get and install teqc\"')  \n",
        "\n",
        "print(f'{datetime.datetime.utcnow()}: Operation Completed.')"
      ],
      "execution_count": null,
      "outputs": []
    },
    {
      "cell_type": "markdown",
      "metadata": {
        "id": "MM-mhPFpGiVR"
      },
      "source": [
        "#Header, Reports, Verify formats, Report Symbol keys, Teqc Help"
      ]
    },
    {
      "cell_type": "code",
      "metadata": {
        "id": "PzTSSCvBtLMM"
      },
      "source": [
        "#@title **`Printout RINEX Header  `** Show the header of the RINEX file. { form-width: \"30%\", display-mode: \"form\" }\n",
        "import os\n",
        "if os.path.isfile('/usr/local/bin/teqc'):\n",
        "  try:\n",
        "    RINEX_File_Name\n",
        "    if os.path.exists(RINEX_File_Name):\n",
        "      with open(RINEX_File_Name) as f:\n",
        "        lines = f.readlines()\n",
        "        for ln in lines:\n",
        "          print(ln, end='')\n",
        "          if 'END OF HEADER' in ln:\n",
        "            break\n",
        "    else:\n",
        "      print(f'{RINEX_File_Name} does not exist.')\n",
        "  except:\n",
        "    print(f'{RINEX_File_Name} variable is not set.  Run the cell above to set the filename.')\n",
        "else:\n",
        "  print('You need to run cell 1. \"Teqc: Get and install teqc\"') \n",
        "\n",
        "print(f'{datetime.datetime.utcnow()}: Operation Completed.')"
      ],
      "execution_count": null,
      "outputs": []
    },
    {
      "cell_type": "code",
      "metadata": {
        "id": "jdJhXc9OigUR"
      },
      "source": [
        "#@title **`teqc +qc +l`** Extract start and stop time from report { form-width: \"30%\", display-mode: \"form\" }\n",
        "import os\n",
        "if os.path.isfile('/usr/local/bin/teqc'):\n",
        "  try:\n",
        "    RINEX_File_Name\n",
        "    if os.path.exists(RINEX_File_Name):\n",
        "      print(f'Processing {RINEX_File_Name}')\n",
        "      rinex_version=get_rinex_version(RINEX_File_Name)\n",
        "      if  rinex_version <= 2.11:\n",
        "        !teqc +qc +l {RINEX_File_Name} 2>/dev/null | grep -e'Time of' -e '4-character'\n",
        "      else:\n",
        "        print(f'File is version: {rinex_version}.  Teqc needs version 2.11 or lower')\n",
        "    else:\n",
        "      print(f'{RINEX_File_Name} does not exist.')\n",
        "  except:\n",
        "    print(f'{RINEX_File_Name} variable is not set.  Run the cell above to set the filename.')\n",
        "else:\n",
        "  print('You need to run cell 1. \"Teqc: Get and install teqc\"')  "
      ],
      "execution_count": null,
      "outputs": []
    },
    {
      "cell_type": "code",
      "metadata": {
        "id": "XSOYSC8FigUR"
      },
      "source": [
        "#@title **teqc +qc +l** Generate a teqc report. { form-width: \"30%\", display-mode: \"form\" }\n",
        "import os\n",
        "if os.path.isfile('/usr/local/bin/teqc'):\n",
        "  try:\n",
        "    RINEX_File_Name\n",
        "    if os.path.exists(RINEX_File_Name):\n",
        "      print(f'Processing {RINEX_File_Name}')\n",
        "      rinex_version=get_rinex_version(RINEX_File_Name)\n",
        "      if  rinex_version <= 2.11:\n",
        "        ! teqc +qc +l {RINEX_File_Name} 2>/dev/null\n",
        "      else:\n",
        "        print(f'File is version: {rinex_version}.  Teqc needs version 2.11 or lower')\n",
        "    else:\n",
        "      print(f'{RINEX_File_Name} does not exist.')\n",
        "  except:\n",
        "    print(f'{RINEX_File_Name} variable is not set.  Run the cell above to set the filename.')\n",
        "else:\n",
        "  print('You need to run cell 1. \"Teqc: Get and install teqc\"')  \n",
        "\n",
        "print(f'{datetime.datetime.utcnow()}: Operation Completed.')"
      ],
      "execution_count": null,
      "outputs": []
    },
    {
      "cell_type": "code",
      "metadata": {
        "id": "MuhZOo_higUS"
      },
      "source": [
        "#@title **`teqc -v File  `** Verify a RINEX file format { form-width: \"30%\", display-mode: \"form\" }\n",
        "import os\n",
        "if os.path.isfile('/usr/local/bin/teqc'):\n",
        "  try:\n",
        "    RINEX_File_Name\n",
        "    if os.path.exists(RINEX_File_Name):\n",
        "      print(f'Processing {RINEX_File_Name}')\n",
        "      !teqc +v {RINEX_File_Name}\n",
        "    else:\n",
        "      print(f'{RINEX_File_Name} does not exist.')\n",
        "  except:\n",
        "    print(f'{RINEX_File_Name} variable is not set.  Run the cell above to set the filename.')\n",
        "else:\n",
        "  print('You need to run cell 1. \"Teqc: Get and install teqc\"') \n",
        "\n",
        "print(f'{datetime.datetime.utcnow()}: Operation Completed.')"
      ],
      "execution_count": null,
      "outputs": []
    },
    {
      "cell_type": "code",
      "metadata": {
        "id": "DwMnPsUbigUS"
      },
      "source": [
        "#@title **`teqc ++config`**  Dump the default teqc configuration parameters { form-width: \"30%\", display-mode: \"form\" }\n",
        "if os.path.isfile('/usr/local/bin/teqc'):\n",
        "  !teqc ++config\n",
        "else:\n",
        "  print('You need to run cell 1. \"Teqc: Get and install teqc\"') \n",
        "\n",
        "print(f'{datetime.datetime.utcnow()}: Operation Completed.')"
      ],
      "execution_count": null,
      "outputs": []
    },
    {
      "cell_type": "code",
      "metadata": {
        "id": "pflzq9desCB-"
      },
      "source": [
        "#@title **`teqc ++sym`**  Show the meaning for symbols in the teqc report. { form-width: \"30%\", display-mode: \"form\" }\n",
        "if os.path.isfile('/usr/local/bin/teqc'):\n",
        "  !teqc ++sym\n",
        "else:\n",
        "  print('You need to run cell 1. \"Teqc: Get and install teqc\"') \n",
        "\n",
        "print(f'{datetime.datetime.utcnow()}: Operation Completed.')"
      ],
      "execution_count": null,
      "outputs": []
    },
    {
      "cell_type": "code",
      "metadata": {
        "id": "qaPVfRxmigUQ"
      },
      "source": [
        "#@title **teqc -help** Run teqc -help and show all options. { form-width: \"30%\", display-mode: \"form\" }\n",
        "if os.path.isfile('/usr/local/bin/teqc'):\n",
        "  !teqc -help\n",
        "else:\n",
        "  print('You need to run cell 1. \"Teqc: Get and install teqc\"')\n",
        "\n",
        "print(f'{datetime.datetime.utcnow()}: Operation Completed.')"
      ],
      "execution_count": null,
      "outputs": []
    }
  ]
}